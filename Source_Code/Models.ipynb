{
 "cells": [
  {
   "cell_type": "markdown",
   "metadata": {},
   "source": [
    "### <p style=\"text-align: center;\">Tu będą wykonywane modele stan XD</p>"
   ]
  },
  {
   "cell_type": "code",
   "execution_count": 21,
   "metadata": {},
   "outputs": [],
   "source": [
    "from cmdstanpy import CmdStanModel\n",
    "\n",
    "\n",
    "import arviz as az\n",
    "import numpy as np\n",
    "import scipy.stats as stats\n",
    "\n",
    "import matplotlib.pyplot as plt\n",
    "import pandas as pd\n",
    "\n",
    "from scipy.stats import mstats\n",
    "\n",
    "import pandas as pd\n",
    "import numpy as np\n",
    "from os.path import join as JoinPath\n",
    "from enum import Enum\n",
    "from typing import List\n",
    "from copy import deepcopy"
   ]
  },
  {
   "cell_type": "code",
   "execution_count": 22,
   "outputs": [
    {
     "name": "stderr",
     "output_type": "stream",
     "text": [
      "<ipython-input-22-e4e20567d1fc>:3: FutureWarning: Dropping of nuisance columns in DataFrame reductions (with 'numeric_only=None') is deprecated; in a future version this will raise TypeError.  Select only valid columns before calling the reduction.\n",
      "  mean_list = list(electricity_household.mean())\n"
     ]
    }
   ],
   "source": [
    "electricity_household = pd.read_csv('electricity_household' + '.tsv',\n",
    "                                    sep='\\t',header=0,)\n",
    "mean_list = list(electricity_household.mean())"
   ],
   "metadata": {
    "collapsed": false,
    "pycharm": {
     "name": "#%%\n"
    }
   }
  },
  {
   "cell_type": "code",
   "execution_count": 23,
   "outputs": [],
   "source": [
    "x = list(range(len(mean_list)))"
   ],
   "metadata": {
    "collapsed": false,
    "pycharm": {
     "name": "#%%\n"
    }
   }
  },
  {
   "cell_type": "code",
   "execution_count": 24,
   "outputs": [
    {
     "name": "stderr",
     "output_type": "stream",
     "text": [
      "INFO:cmdstanpy:compiling stan file /home/mat_komp/PycharmProjects/Projekt-DataAnalytics-2022/Source_Code/stan-files/model_1.stan to exe file /home/mat_komp/PycharmProjects/Projekt-DataAnalytics-2022/Source_Code/stan-files/model_1\n",
      "INFO:cmdstanpy:compiled model executable: /home/mat_komp/PycharmProjects/Projekt-DataAnalytics-2022/Source_Code/stan-files/model_1\n",
      "INFO:cmdstanpy:CmdStan start processing\n",
      "INFO:cmdstanpy:Chain [1] start processing\n",
      "INFO:cmdstanpy:Chain [2] start processing\n",
      "INFO:cmdstanpy:Chain [3] start processing\n",
      "INFO:cmdstanpy:Chain [4] start processing\n",
      "INFO:cmdstanpy:Chain [1] done processing\n",
      "INFO:cmdstanpy:Chain [2] done processing\n",
      "INFO:cmdstanpy:Chain [4] done processing\n",
      "INFO:cmdstanpy:Chain [3] done processing\n"
     ]
    }
   ],
   "source": [
    "model_1_fit=CmdStanModel(stan_file=JoinPath('stan-files', 'model_1.stan'))\n",
    "fit_result = model_1_fit.sample(data=dict(\n",
    "    N=len(mean_list),\n",
    "    x=x,\n",
    "    y=mean_list\n",
    "), seed=2137)"
   ],
   "metadata": {
    "collapsed": false,
    "pycharm": {
     "name": "#%%\n"
    }
   }
  },
  {
   "cell_type": "code",
   "execution_count": 25,
   "outputs": [
    {
     "data": {
      "text/plain": "               Mean      MCSE   StdDev       5%       50%       95%   N_Eff  \\\nname                                                                          \nlp__       230.0000  0.037000  1.30000  230.000  230.0000  230.0000  1200.0   \nalpha        0.1200  0.000120  0.00470    0.120    0.1200    0.1300  1500.0   \nbeta         0.0012  0.000003  0.00012    0.001    0.0012    0.0014  1800.0   \nsigma        0.0200  0.000049  0.00180    0.017    0.0200    0.0230  1300.0   \ny_sim[1]     0.1200  0.000340  0.02000    0.090    0.1200    0.1600  3702.0   \n...             ...       ...      ...      ...       ...       ...     ...   \ny_sim[64]    0.2000  0.000330  0.02000    0.170    0.2000    0.2300  3720.0   \ny_sim[65]    0.2000  0.000330  0.02100    0.170    0.2000    0.2400  3821.0   \ny_sim[66]    0.2000  0.000320  0.02000    0.170    0.2000    0.2400  4101.0   \ny_sim[67]    0.2000  0.000330  0.02100    0.170    0.2000    0.2400  3993.0   \ny_sim[68]    0.2100  0.000320  0.02000    0.170    0.2100    0.2400  4042.0   \n\n           N_Eff/s  R_hat  \nname                       \nlp__         720.0    1.0  \nalpha        910.0    1.0  \nbeta        1100.0    1.0  \nsigma        770.0    1.0  \ny_sim[1]    2223.0    1.0  \n...            ...    ...  \ny_sim[64]   2234.0    1.0  \ny_sim[65]   2295.0    1.0  \ny_sim[66]   2463.0    1.0  \ny_sim[67]   2398.0    1.0  \ny_sim[68]   2427.0    1.0  \n\n[72 rows x 9 columns]",
      "text/html": "<div>\n<style scoped>\n    .dataframe tbody tr th:only-of-type {\n        vertical-align: middle;\n    }\n\n    .dataframe tbody tr th {\n        vertical-align: top;\n    }\n\n    .dataframe thead th {\n        text-align: right;\n    }\n</style>\n<table border=\"1\" class=\"dataframe\">\n  <thead>\n    <tr style=\"text-align: right;\">\n      <th></th>\n      <th>Mean</th>\n      <th>MCSE</th>\n      <th>StdDev</th>\n      <th>5%</th>\n      <th>50%</th>\n      <th>95%</th>\n      <th>N_Eff</th>\n      <th>N_Eff/s</th>\n      <th>R_hat</th>\n    </tr>\n    <tr>\n      <th>name</th>\n      <th></th>\n      <th></th>\n      <th></th>\n      <th></th>\n      <th></th>\n      <th></th>\n      <th></th>\n      <th></th>\n      <th></th>\n    </tr>\n  </thead>\n  <tbody>\n    <tr>\n      <th>lp__</th>\n      <td>230.0000</td>\n      <td>0.037000</td>\n      <td>1.30000</td>\n      <td>230.000</td>\n      <td>230.0000</td>\n      <td>230.0000</td>\n      <td>1200.0</td>\n      <td>720.0</td>\n      <td>1.0</td>\n    </tr>\n    <tr>\n      <th>alpha</th>\n      <td>0.1200</td>\n      <td>0.000120</td>\n      <td>0.00470</td>\n      <td>0.120</td>\n      <td>0.1200</td>\n      <td>0.1300</td>\n      <td>1500.0</td>\n      <td>910.0</td>\n      <td>1.0</td>\n    </tr>\n    <tr>\n      <th>beta</th>\n      <td>0.0012</td>\n      <td>0.000003</td>\n      <td>0.00012</td>\n      <td>0.001</td>\n      <td>0.0012</td>\n      <td>0.0014</td>\n      <td>1800.0</td>\n      <td>1100.0</td>\n      <td>1.0</td>\n    </tr>\n    <tr>\n      <th>sigma</th>\n      <td>0.0200</td>\n      <td>0.000049</td>\n      <td>0.00180</td>\n      <td>0.017</td>\n      <td>0.0200</td>\n      <td>0.0230</td>\n      <td>1300.0</td>\n      <td>770.0</td>\n      <td>1.0</td>\n    </tr>\n    <tr>\n      <th>y_sim[1]</th>\n      <td>0.1200</td>\n      <td>0.000340</td>\n      <td>0.02000</td>\n      <td>0.090</td>\n      <td>0.1200</td>\n      <td>0.1600</td>\n      <td>3702.0</td>\n      <td>2223.0</td>\n      <td>1.0</td>\n    </tr>\n    <tr>\n      <th>...</th>\n      <td>...</td>\n      <td>...</td>\n      <td>...</td>\n      <td>...</td>\n      <td>...</td>\n      <td>...</td>\n      <td>...</td>\n      <td>...</td>\n      <td>...</td>\n    </tr>\n    <tr>\n      <th>y_sim[64]</th>\n      <td>0.2000</td>\n      <td>0.000330</td>\n      <td>0.02000</td>\n      <td>0.170</td>\n      <td>0.2000</td>\n      <td>0.2300</td>\n      <td>3720.0</td>\n      <td>2234.0</td>\n      <td>1.0</td>\n    </tr>\n    <tr>\n      <th>y_sim[65]</th>\n      <td>0.2000</td>\n      <td>0.000330</td>\n      <td>0.02100</td>\n      <td>0.170</td>\n      <td>0.2000</td>\n      <td>0.2400</td>\n      <td>3821.0</td>\n      <td>2295.0</td>\n      <td>1.0</td>\n    </tr>\n    <tr>\n      <th>y_sim[66]</th>\n      <td>0.2000</td>\n      <td>0.000320</td>\n      <td>0.02000</td>\n      <td>0.170</td>\n      <td>0.2000</td>\n      <td>0.2400</td>\n      <td>4101.0</td>\n      <td>2463.0</td>\n      <td>1.0</td>\n    </tr>\n    <tr>\n      <th>y_sim[67]</th>\n      <td>0.2000</td>\n      <td>0.000330</td>\n      <td>0.02100</td>\n      <td>0.170</td>\n      <td>0.2000</td>\n      <td>0.2400</td>\n      <td>3993.0</td>\n      <td>2398.0</td>\n      <td>1.0</td>\n    </tr>\n    <tr>\n      <th>y_sim[68]</th>\n      <td>0.2100</td>\n      <td>0.000320</td>\n      <td>0.02000</td>\n      <td>0.170</td>\n      <td>0.2100</td>\n      <td>0.2400</td>\n      <td>4042.0</td>\n      <td>2427.0</td>\n      <td>1.0</td>\n    </tr>\n  </tbody>\n</table>\n<p>72 rows × 9 columns</p>\n</div>"
     },
     "execution_count": 25,
     "metadata": {},
     "output_type": "execute_result"
    }
   ],
   "source": [
    "fit_result.summary()"
   ],
   "metadata": {
    "collapsed": false,
    "pycharm": {
     "name": "#%%\n"
    }
   }
  },
  {
   "cell_type": "code",
   "execution_count": 30,
   "outputs": [],
   "source": [
    "alpha = np.mean(fit_result.stan_variable(\"alpha\"))\n",
    "beta = np.mean(fit_result.stan_variable(\"beta\"))\n",
    "sigma = np.mean(fit_result.stan_variable(\"sigma\"))\n",
    "y_sim_to_mean = fit_result.stan_variable(\"y_sim\")"
   ],
   "metadata": {
    "collapsed": false,
    "pycharm": {
     "name": "#%%\n"
    }
   }
  },
  {
   "cell_type": "code",
   "execution_count": 35,
   "outputs": [],
   "source": [
    "y_sim = []\n",
    "for i in range(len(x)):\n",
    "    y_sim.append(np.mean(y_sim_to_mean[:,i]))"
   ],
   "metadata": {
    "collapsed": false,
    "pycharm": {
     "name": "#%%\n"
    }
   }
  },
  {
   "cell_type": "code",
   "execution_count": 37,
   "outputs": [],
   "source": [
    "upper_dev = [alpha + beta * x_ + sigma for x_ in x]\n",
    "lower_dev = [alpha + beta * x_ - sigma for x_ in x]\n",
    "dev = [alpha + beta * x_ for x_ in x]"
   ],
   "metadata": {
    "collapsed": false,
    "pycharm": {
     "name": "#%%\n"
    }
   }
  },
  {
   "cell_type": "markdown",
   "source": [],
   "metadata": {
    "collapsed": false
   }
  },
  {
   "cell_type": "code",
   "execution_count": 38,
   "outputs": [
    {
     "data": {
      "text/plain": "<Figure size 432x288 with 1 Axes>",
      "image/png": "[encoded data removed]"
     },
     "metadata": {
      "needs_background": "light"
     },
     "output_type": "display_data"
    }
   ],
   "source": [
    "plt.plot(x, mean_list, \"ro\")\n",
    "plt.plot(x, y_sim, \"bo\")\n",
    "plt.plot(x, upper_dev)\n",
    "plt.plot(x, lower_dev)\n",
    "plt.plot(x, dev)\n",
    "plt.show()"
   ],
   "metadata": {
    "collapsed": false,
    "pycharm": {
     "name": "#%%\n"
    }
   }
  }
 ],
 "metadata": {
  "interpreter": {
   "hash": "21d2c9d8169a72a6ee8a47ec19871551033632d248d241d399f03ea8178d894d"
  },
  "kernelspec": {
   "display_name": "Python 3.9.7 ('base')",
   "language": "python",
   "name": "python3"
  },
  "language_info": {
   "codemirror_mode": {
    "name": "ipython",
    "version": 3
   },
   "file_extension": ".py",
   "mimetype": "text/x-python",
   "name": "python",
   "nbconvert_exporter": "python",
   "pygments_lexer": "ipython3",
   "version": "3.9.7"
  },
  "orig_nbformat": 4
 },
 "nbformat": 4,
 "nbformat_minor": 2
}