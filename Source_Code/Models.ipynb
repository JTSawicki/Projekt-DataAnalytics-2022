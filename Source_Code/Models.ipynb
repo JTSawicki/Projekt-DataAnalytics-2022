{
 "cells": [
  {
   "cell_type": "markdown",
   "metadata": {},
   "source": [
    "### <p style=\"text-align: center;\">Tu będą wykonywane modele stan XD</p>"
   ]
  },
  {
   "cell_type": "code",
   "execution_count": 10,
   "metadata": {},
   "outputs": [],
   "source": [
    "from cmdstanpy import CmdStanModel\n",
    "\n",
    "\n",
    "import arviz as az\n",
    "import numpy as np\n",
    "import scipy.stats as stats\n",
    "\n",
    "import matplotlib.pyplot as plt\n",
    "import pandas as pd\n",
    "\n",
    "from scipy.stats import mstats\n",
    "\n",
    "import pandas as pd\n",
    "import numpy as np\n",
    "from os.path import join as JoinPath\n",
    "from enum import Enum\n",
    "from typing import List\n",
    "from copy import deepcopy"
   ]
  },
  {
   "cell_type": "code",
   "execution_count": 11,
   "metadata": {
    "collapsed": false,
    "pycharm": {
     "name": "#%%\n"
    }
   },
   "outputs": [
    {
     "name": "stderr",
     "output_type": "stream",
     "text": [
      "C:\\Users\\Jasio\\AppData\\Local\\Temp/ipykernel_18960/2693346157.py:3: FutureWarning: Dropping of nuisance columns in DataFrame reductions (with 'numeric_only=None') is deprecated; in a future version this will raise TypeError.  Select only valid columns before calling the reduction.\n",
      "  mean_list = list(electricity_household.mean())\n"
     ]
    }
   ],
   "source": [
    "electricity_household = pd.read_csv('electricity_household' + '.tsv',\n",
    "                                    sep='\\t',header=0,)\n",
    "mean_list = list(electricity_household.mean())"
   ]
  },
  {
   "cell_type": "code",
   "execution_count": 12,
   "metadata": {
    "collapsed": false,
    "pycharm": {
     "name": "#%%\n"
    }
   },
   "outputs": [],
   "source": [
    "x = list(range(len(mean_list)))"
   ]
  },
  {
   "cell_type": "code",
   "execution_count": 13,
   "metadata": {
    "collapsed": false,
    "pycharm": {
     "name": "#%%\n"
    }
   },
   "outputs": [
    {
     "name": "stderr",
     "output_type": "stream",
     "text": [
      "INFO:cmdstanpy:found newer exe file, not recompiling\n",
      "INFO:cmdstanpy:CmdStan start procesing\n",
      "chain 1 |\u001b[33m          \u001b[0m| 00:00 Status\n",
      "\u001b[A\n",
      "\n",
      "chain 1 |\u001b[33m█▎        \u001b[0m| 00:00 Iteration:  100 / 2000 [  5%]  (Warmup)\n",
      "\n",
      "\u001b[A\u001b[A\n",
      "chain 1 |\u001b[33m██▎       \u001b[0m| 00:00 Iteration:  300 / 2000 [ 15%]  (Warmup)\n",
      "\u001b[A\n",
      "\n",
      "chain 1 |\u001b[33m███▏      \u001b[0m| 00:00 Iteration:  500 / 2000 [ 25%]  (Warmup)\n",
      "\n",
      "\u001b[A\u001b[A\n",
      "\u001b[A\n",
      "\n",
      "chain 1 |\u001b[33m████▌     \u001b[0m| 00:00 Iteration:  800 / 2000 [ 40%]  (Warmup)\n",
      "chain 1 |\u001b[34m█████▉    \u001b[0m| 00:00 Iteration: 1001 / 2000 [ 50%]  (Sampling)\n",
      "\n",
      "\u001b[A\u001b[A\n",
      "chain 1 |\u001b[34m███████▎  \u001b[0m| 00:00 Iteration: 1300 / 2000 [ 65%]  (Sampling)\n",
      "\n",
      "\u001b[A\u001b[A\n",
      "\u001b[A\n",
      "\n",
      "chain 1 |\u001b[34m████████▋ \u001b[0m| 00:00 Iteration: 1600 / 2000 [ 80%]  (Sampling)\n",
      "chain 1 |\u001b[34m██████████\u001b[0m| 00:01 Sampling completed                       \n",
      "chain 2 |\u001b[34m██████████\u001b[0m| 00:01 Sampling completed                       \n",
      "chain 3 |\u001b[34m██████████\u001b[0m| 00:01 Sampling completed                       \n",
      "chain 4 |\u001b[34m██████████\u001b[0m| 00:01 Sampling completed                       "
     ]
    },
    {
     "name": "stdout",
     "output_type": "stream",
     "text": [
      "                                                                                                                                                                                                                                                                                                                                "
     ]
    },
    {
     "name": "stderr",
     "output_type": "stream",
     "text": [
      "\n",
      "INFO:cmdstanpy:CmdStan done processing.\n"
     ]
    },
    {
     "name": "stdout",
     "output_type": "stream",
     "text": [
      "\n"
     ]
    }
   ],
   "source": [
    "model_1_fit=CmdStanModel(stan_file=JoinPath('stan-files', 'model_1.stan'))\n",
    "fit_result = model_1_fit.sample(data=dict(\n",
    "    N=len(mean_list),\n",
    "    x=x,\n",
    "    y=mean_list\n",
    "), seed=2137)"
   ]
  },
  {
   "cell_type": "code",
   "execution_count": 14,
   "metadata": {
    "collapsed": false,
    "pycharm": {
     "name": "#%%\n"
    }
   },
   "outputs": [
    {
     "data": {
      "text/html": [
       "<div>\n",
       "<style scoped>\n",
       "    .dataframe tbody tr th:only-of-type {\n",
       "        vertical-align: middle;\n",
       "    }\n",
       "\n",
       "    .dataframe tbody tr th {\n",
       "        vertical-align: top;\n",
       "    }\n",
       "\n",
       "    .dataframe thead th {\n",
       "        text-align: right;\n",
       "    }\n",
       "</style>\n",
       "<table border=\"1\" class=\"dataframe\">\n",
       "  <thead>\n",
       "    <tr style=\"text-align: right;\">\n",
       "      <th></th>\n",
       "      <th>Mean</th>\n",
       "      <th>MCSE</th>\n",
       "      <th>StdDev</th>\n",
       "      <th>5%</th>\n",
       "      <th>50%</th>\n",
       "      <th>95%</th>\n",
       "      <th>N_Eff</th>\n",
       "      <th>N_Eff/s</th>\n",
       "      <th>R_hat</th>\n",
       "    </tr>\n",
       "    <tr>\n",
       "      <th>name</th>\n",
       "      <th></th>\n",
       "      <th></th>\n",
       "      <th></th>\n",
       "      <th></th>\n",
       "      <th></th>\n",
       "      <th></th>\n",
       "      <th></th>\n",
       "      <th></th>\n",
       "      <th></th>\n",
       "    </tr>\n",
       "  </thead>\n",
       "  <tbody>\n",
       "    <tr>\n",
       "      <th>lp__</th>\n",
       "      <td>230.0000</td>\n",
       "      <td>0.036000</td>\n",
       "      <td>1.20000</td>\n",
       "      <td>230.000</td>\n",
       "      <td>230.0000</td>\n",
       "      <td>230.0000</td>\n",
       "      <td>1100.0</td>\n",
       "      <td>630.0</td>\n",
       "      <td>1.0</td>\n",
       "    </tr>\n",
       "    <tr>\n",
       "      <th>alpha</th>\n",
       "      <td>0.1200</td>\n",
       "      <td>0.000130</td>\n",
       "      <td>0.00460</td>\n",
       "      <td>0.120</td>\n",
       "      <td>0.1200</td>\n",
       "      <td>0.1300</td>\n",
       "      <td>1300.0</td>\n",
       "      <td>730.0</td>\n",
       "      <td>1.0</td>\n",
       "    </tr>\n",
       "    <tr>\n",
       "      <th>beta</th>\n",
       "      <td>0.0012</td>\n",
       "      <td>0.000003</td>\n",
       "      <td>0.00012</td>\n",
       "      <td>0.001</td>\n",
       "      <td>0.0012</td>\n",
       "      <td>0.0014</td>\n",
       "      <td>1500.0</td>\n",
       "      <td>890.0</td>\n",
       "      <td>1.0</td>\n",
       "    </tr>\n",
       "    <tr>\n",
       "      <th>sigma</th>\n",
       "      <td>0.0200</td>\n",
       "      <td>0.000051</td>\n",
       "      <td>0.00170</td>\n",
       "      <td>0.017</td>\n",
       "      <td>0.0200</td>\n",
       "      <td>0.0230</td>\n",
       "      <td>1200.0</td>\n",
       "      <td>670.0</td>\n",
       "      <td>1.0</td>\n",
       "    </tr>\n",
       "    <tr>\n",
       "      <th>y_sim[1]</th>\n",
       "      <td>0.1200</td>\n",
       "      <td>0.000340</td>\n",
       "      <td>0.02000</td>\n",
       "      <td>0.092</td>\n",
       "      <td>0.1200</td>\n",
       "      <td>0.1600</td>\n",
       "      <td>3571.0</td>\n",
       "      <td>2081.0</td>\n",
       "      <td>1.0</td>\n",
       "    </tr>\n",
       "    <tr>\n",
       "      <th>...</th>\n",
       "      <td>...</td>\n",
       "      <td>...</td>\n",
       "      <td>...</td>\n",
       "      <td>...</td>\n",
       "      <td>...</td>\n",
       "      <td>...</td>\n",
       "      <td>...</td>\n",
       "      <td>...</td>\n",
       "      <td>...</td>\n",
       "    </tr>\n",
       "    <tr>\n",
       "      <th>y_sim[64]</th>\n",
       "      <td>0.2000</td>\n",
       "      <td>0.000330</td>\n",
       "      <td>0.02000</td>\n",
       "      <td>0.170</td>\n",
       "      <td>0.2000</td>\n",
       "      <td>0.2300</td>\n",
       "      <td>3558.0</td>\n",
       "      <td>2074.0</td>\n",
       "      <td>1.0</td>\n",
       "    </tr>\n",
       "    <tr>\n",
       "      <th>y_sim[65]</th>\n",
       "      <td>0.2000</td>\n",
       "      <td>0.000320</td>\n",
       "      <td>0.02000</td>\n",
       "      <td>0.170</td>\n",
       "      <td>0.2000</td>\n",
       "      <td>0.2400</td>\n",
       "      <td>4012.0</td>\n",
       "      <td>2338.0</td>\n",
       "      <td>1.0</td>\n",
       "    </tr>\n",
       "    <tr>\n",
       "      <th>y_sim[66]</th>\n",
       "      <td>0.2000</td>\n",
       "      <td>0.000330</td>\n",
       "      <td>0.02000</td>\n",
       "      <td>0.170</td>\n",
       "      <td>0.2000</td>\n",
       "      <td>0.2400</td>\n",
       "      <td>3759.0</td>\n",
       "      <td>2191.0</td>\n",
       "      <td>1.0</td>\n",
       "    </tr>\n",
       "    <tr>\n",
       "      <th>y_sim[67]</th>\n",
       "      <td>0.2000</td>\n",
       "      <td>0.000330</td>\n",
       "      <td>0.02100</td>\n",
       "      <td>0.170</td>\n",
       "      <td>0.2000</td>\n",
       "      <td>0.2400</td>\n",
       "      <td>3917.0</td>\n",
       "      <td>2282.0</td>\n",
       "      <td>1.0</td>\n",
       "    </tr>\n",
       "    <tr>\n",
       "      <th>y_sim[68]</th>\n",
       "      <td>0.2100</td>\n",
       "      <td>0.000340</td>\n",
       "      <td>0.02100</td>\n",
       "      <td>0.170</td>\n",
       "      <td>0.2100</td>\n",
       "      <td>0.2400</td>\n",
       "      <td>3754.0</td>\n",
       "      <td>2187.0</td>\n",
       "      <td>1.0</td>\n",
       "    </tr>\n",
       "  </tbody>\n",
       "</table>\n",
       "<p>72 rows × 9 columns</p>\n",
       "</div>"
      ],
      "text/plain": [
       "               Mean      MCSE   StdDev       5%       50%       95%   N_Eff  \\\n",
       "name                                                                          \n",
       "lp__       230.0000  0.036000  1.20000  230.000  230.0000  230.0000  1100.0   \n",
       "alpha        0.1200  0.000130  0.00460    0.120    0.1200    0.1300  1300.0   \n",
       "beta         0.0012  0.000003  0.00012    0.001    0.0012    0.0014  1500.0   \n",
       "sigma        0.0200  0.000051  0.00170    0.017    0.0200    0.0230  1200.0   \n",
       "y_sim[1]     0.1200  0.000340  0.02000    0.092    0.1200    0.1600  3571.0   \n",
       "...             ...       ...      ...      ...       ...       ...     ...   \n",
       "y_sim[64]    0.2000  0.000330  0.02000    0.170    0.2000    0.2300  3558.0   \n",
       "y_sim[65]    0.2000  0.000320  0.02000    0.170    0.2000    0.2400  4012.0   \n",
       "y_sim[66]    0.2000  0.000330  0.02000    0.170    0.2000    0.2400  3759.0   \n",
       "y_sim[67]    0.2000  0.000330  0.02100    0.170    0.2000    0.2400  3917.0   \n",
       "y_sim[68]    0.2100  0.000340  0.02100    0.170    0.2100    0.2400  3754.0   \n",
       "\n",
       "           N_Eff/s  R_hat  \n",
       "name                       \n",
       "lp__         630.0    1.0  \n",
       "alpha        730.0    1.0  \n",
       "beta         890.0    1.0  \n",
       "sigma        670.0    1.0  \n",
       "y_sim[1]    2081.0    1.0  \n",
       "...            ...    ...  \n",
       "y_sim[64]   2074.0    1.0  \n",
       "y_sim[65]   2338.0    1.0  \n",
       "y_sim[66]   2191.0    1.0  \n",
       "y_sim[67]   2282.0    1.0  \n",
       "y_sim[68]   2187.0    1.0  \n",
       "\n",
       "[72 rows x 9 columns]"
      ]
     },
     "execution_count": 14,
     "metadata": {},
     "output_type": "execute_result"
    }
   ],
   "source": [
    "fit_result.summary()"
   ]
  },
  {
   "cell_type": "code",
   "execution_count": 15,
   "metadata": {
    "collapsed": false,
    "pycharm": {
     "name": "#%%\n"
    }
   },
   "outputs": [],
   "source": [
    "alpha = np.mean(fit_result.stan_variable(\"alpha\"))\n",
    "beta = np.mean(fit_result.stan_variable(\"beta\"))\n",
    "sigma = np.mean(fit_result.stan_variable(\"sigma\"))\n",
    "y_sim_to_mean = fit_result.stan_variable(\"y_sim\")"
   ]
  },
  {
   "cell_type": "code",
   "execution_count": 16,
   "metadata": {
    "collapsed": false,
    "pycharm": {
     "name": "#%%\n"
    }
   },
   "outputs": [],
   "source": [
    "y_sim = []\n",
    "for i in range(len(x)):\n",
    "    y_sim.append(y_sim_to_mean[2,i])"
   ]
  },
  {
   "cell_type": "code",
   "execution_count": 17,
   "metadata": {
    "collapsed": false,
    "pycharm": {
     "name": "#%%\n"
    }
   },
   "outputs": [],
   "source": [
    "upper_dev = [alpha + beta * x_ + sigma for x_ in x]\n",
    "lower_dev = [alpha + beta * x_ - sigma for x_ in x]\n",
    "dev = [alpha + beta * x_ for x_ in x]"
   ]
  },
  {
   "cell_type": "markdown",
   "metadata": {
    "collapsed": false
   },
   "source": []
  },
  {
   "cell_type": "code",
   "execution_count": 18,
   "metadata": {
    "collapsed": false,
    "pycharm": {
     "name": "#%%\n"
    }
   },
   "outputs": [
    {
     "data": {
      "image/png": "[encoded data removed]",
      "text/plain": [
       "<Figure size 432x288 with 1 Axes>"
      ]
     },
     "metadata": {
      "needs_background": "light"
     },
     "output_type": "display_data"
    }
   ],
   "source": [
    "plt.plot(x, mean_list, \"ro\")\n",
    "plt.plot(x, y_sim, \"bo\")\n",
    "plt.plot(x, upper_dev)\n",
    "plt.plot(x, lower_dev)\n",
    "plt.plot(x, dev)\n",
    "plt.show()"
   ]
  }
 ],
 "metadata": {
  "interpreter": {
   "hash": "21d2c9d8169a72a6ee8a47ec19871551033632d248d241d399f03ea8178d894d"
  },
  "kernelspec": {
   "display_name": "Python 3.9.7 ('base')",
   "language": "python",
   "name": "python3"
  },
  "language_info": {
   "codemirror_mode": {
    "name": "ipython",
    "version": 3
   },
   "file_extension": ".py",
   "mimetype": "text/x-python",
   "name": "python",
   "nbconvert_exporter": "python",
   "pygments_lexer": "ipython3",
   "version": "3.9.7"
  },
  "orig_nbformat": 4
 },
 "nbformat": 4,
 "nbformat_minor": 2
}
