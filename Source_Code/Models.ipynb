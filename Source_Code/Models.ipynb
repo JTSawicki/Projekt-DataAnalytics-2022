{
 "cells": [
  {
   "cell_type": "markdown",
   "metadata": {},
   "source": [
    "### <p style=\"text-align: center;\">Tu będą wykonywane modele stan XD</p>"
   ]
  },
  {
   "cell_type": "code",
   "execution_count": 1,
   "metadata": {},
   "outputs": [],
   "source": [
    "from cmdstanpy import CmdStanModel\n",
    "\n",
    "\n",
    "import arviz as az\n",
    "import numpy as np\n",
    "import scipy.stats as stats\n",
    "\n",
    "import matplotlib.pyplot as plt\n",
    "import pandas as pd\n",
    "\n",
    "from scipy.stats import mstats\n",
    "\n",
    "import pandas as pd\n",
    "import numpy as np\n",
    "from os.path import join as JoinPath\n",
    "from enum import Enum\n",
    "from typing import List\n",
    "from copy import deepcopy"
   ]
  },
  {
   "cell_type": "code",
   "execution_count": 2,
   "metadata": {
    "collapsed": false,
    "pycharm": {
     "name": "#%%\n"
    }
   },
   "outputs": [
    {
     "name": "stderr",
     "output_type": "stream",
     "text": [
      "<ipython-input-2-e4e20567d1fc>:3: FutureWarning: Dropping of nuisance columns in DataFrame reductions (with 'numeric_only=None') is deprecated; in a future version this will raise TypeError.  Select only valid columns before calling the reduction.\n",
      "  mean_list = list(electricity_household.mean())\n"
     ]
    }
   ],
   "source": [
    "electricity_household = pd.read_csv('electricity_household' + '.tsv',\n",
    "                                    sep='\\t',header=0,)\n",
    "mean_list = list(electricity_household.mean())"
   ]
  },
  {
   "cell_type": "code",
   "execution_count": 3,
   "metadata": {
    "collapsed": false,
    "pycharm": {
     "name": "#%%\n"
    }
   },
   "outputs": [],
   "source": [
    "x = list(range(len(mean_list)))"
   ]
  },
  {
   "cell_type": "code",
   "execution_count": 4,
   "metadata": {
    "collapsed": false,
    "pycharm": {
     "name": "#%%\n"
    }
   },
   "outputs": [
    {
     "name": "stderr",
     "output_type": "stream",
     "text": [
      "INFO:cmdstanpy:compiling stan file /home/mat_komp/PycharmProjects/Projekt-DataAnalytics-2022/Source_Code/stan-files/model_1.stan to exe file /home/mat_komp/PycharmProjects/Projekt-DataAnalytics-2022/Source_Code/stan-files/model_1\n",
      "INFO:cmdstanpy:compiled model executable: /home/mat_komp/PycharmProjects/Projekt-DataAnalytics-2022/Source_Code/stan-files/model_1\n",
      "INFO:cmdstanpy:CmdStan start processing\n",
      "Widget Javascript not detected.  It may not be installed or enabled properly.\n"
     ]
    },
    {
     "data": {
      "application/vnd.jupyter.widget-view+json": {
       "model_id": "4d6acb6aceac4f339490e31c7f7a7b79"
      }
     },
     "metadata": {},
     "output_type": "display_data"
    },
    {
     "name": "stderr",
     "output_type": "stream",
     "text": [
      "ERROR:cmdstanpy:Error in progress bar initialization:\n",
      "\t'FloatProgress' object has no attribute 'style'\n",
      "Disabling progress bars for this session\n"
     ]
    },
    {
     "name": "stdout",
     "output_type": "stream",
     "text": [
      "                                                                                                                                                                                                                                                                                                                                "
     ]
    },
    {
     "name": "stderr",
     "output_type": "stream",
     "text": [
      "INFO:cmdstanpy:CmdStan done processing.\n"
     ]
    },
    {
     "name": "stdout",
     "output_type": "stream",
     "text": [
      "\n"
     ]
    }
   ],
   "source": [
    "model_1_fit=CmdStanModel(stan_file=JoinPath('stan-files', 'model_1.stan'))\n",
    "fit_result = model_1_fit.sample(data=dict(\n",
    "    N=len(mean_list),\n",
    "    x=x,\n",
    "    y=mean_list\n",
    "), seed=2137)"
   ]
  },
  {
   "cell_type": "code",
   "execution_count": 5,
   "metadata": {
    "collapsed": false,
    "pycharm": {
     "name": "#%%\n"
    }
   },
   "outputs": [
    {
     "data": {
      "text/plain": "               Mean      MCSE   StdDev       5%       50%       95%   N_Eff  \\\nname                                                                          \nlp__       220.0000  0.032000  1.20000  220.000  220.0000  220.0000  1500.0   \nalpha        0.1200  0.000110  0.00470    0.120    0.1200    0.1300  1700.0   \nbeta         0.0012  0.000003  0.00012    0.001    0.0012    0.0014  1700.0   \nsigma        0.0200  0.000040  0.00180    0.017    0.0200    0.0230  2000.0   \ny_sim[1]     0.1200  0.000330  0.02000    0.091    0.1200    0.1600  3686.0   \n...             ...       ...      ...      ...       ...       ...     ...   \ny_sim[64]    0.2000  0.000320  0.02000    0.170    0.2000    0.2300  3969.0   \ny_sim[65]    0.2000  0.000340  0.02100    0.170    0.2000    0.2400  3700.0   \ny_sim[66]    0.2000  0.000320  0.02000    0.170    0.2000    0.2400  3979.0   \ny_sim[67]    0.2100  0.000350  0.02000    0.170    0.2100    0.2400  3471.0   \ny_sim[68]    0.2100  0.000340  0.02000    0.170    0.2100    0.2400  3643.0   \n\n           N_Eff/s  R_hat  \nname                       \nlp__        4500.0    1.0  \nalpha       5300.0    1.0  \nbeta        5300.0    1.0  \nsigma       6100.0    1.0  \ny_sim[1]   11412.0    1.0  \n...            ...    ...  \ny_sim[64]  12288.0    1.0  \ny_sim[65]  11455.0    1.0  \ny_sim[66]  12319.0    1.0  \ny_sim[67]  10747.0    1.0  \ny_sim[68]  11278.0    1.0  \n\n[72 rows x 9 columns]",
      "text/html": "<div>\n<style scoped>\n    .dataframe tbody tr th:only-of-type {\n        vertical-align: middle;\n    }\n\n    .dataframe tbody tr th {\n        vertical-align: top;\n    }\n\n    .dataframe thead th {\n        text-align: right;\n    }\n</style>\n<table border=\"1\" class=\"dataframe\">\n  <thead>\n    <tr style=\"text-align: right;\">\n      <th></th>\n      <th>Mean</th>\n      <th>MCSE</th>\n      <th>StdDev</th>\n      <th>5%</th>\n      <th>50%</th>\n      <th>95%</th>\n      <th>N_Eff</th>\n      <th>N_Eff/s</th>\n      <th>R_hat</th>\n    </tr>\n    <tr>\n      <th>name</th>\n      <th></th>\n      <th></th>\n      <th></th>\n      <th></th>\n      <th></th>\n      <th></th>\n      <th></th>\n      <th></th>\n      <th></th>\n    </tr>\n  </thead>\n  <tbody>\n    <tr>\n      <th>lp__</th>\n      <td>220.0000</td>\n      <td>0.032000</td>\n      <td>1.20000</td>\n      <td>220.000</td>\n      <td>220.0000</td>\n      <td>220.0000</td>\n      <td>1500.0</td>\n      <td>4500.0</td>\n      <td>1.0</td>\n    </tr>\n    <tr>\n      <th>alpha</th>\n      <td>0.1200</td>\n      <td>0.000110</td>\n      <td>0.00470</td>\n      <td>0.120</td>\n      <td>0.1200</td>\n      <td>0.1300</td>\n      <td>1700.0</td>\n      <td>5300.0</td>\n      <td>1.0</td>\n    </tr>\n    <tr>\n      <th>beta</th>\n      <td>0.0012</td>\n      <td>0.000003</td>\n      <td>0.00012</td>\n      <td>0.001</td>\n      <td>0.0012</td>\n      <td>0.0014</td>\n      <td>1700.0</td>\n      <td>5300.0</td>\n      <td>1.0</td>\n    </tr>\n    <tr>\n      <th>sigma</th>\n      <td>0.0200</td>\n      <td>0.000040</td>\n      <td>0.00180</td>\n      <td>0.017</td>\n      <td>0.0200</td>\n      <td>0.0230</td>\n      <td>2000.0</td>\n      <td>6100.0</td>\n      <td>1.0</td>\n    </tr>\n    <tr>\n      <th>y_sim[1]</th>\n      <td>0.1200</td>\n      <td>0.000330</td>\n      <td>0.02000</td>\n      <td>0.091</td>\n      <td>0.1200</td>\n      <td>0.1600</td>\n      <td>3686.0</td>\n      <td>11412.0</td>\n      <td>1.0</td>\n    </tr>\n    <tr>\n      <th>...</th>\n      <td>...</td>\n      <td>...</td>\n      <td>...</td>\n      <td>...</td>\n      <td>...</td>\n      <td>...</td>\n      <td>...</td>\n      <td>...</td>\n      <td>...</td>\n    </tr>\n    <tr>\n      <th>y_sim[64]</th>\n      <td>0.2000</td>\n      <td>0.000320</td>\n      <td>0.02000</td>\n      <td>0.170</td>\n      <td>0.2000</td>\n      <td>0.2300</td>\n      <td>3969.0</td>\n      <td>12288.0</td>\n      <td>1.0</td>\n    </tr>\n    <tr>\n      <th>y_sim[65]</th>\n      <td>0.2000</td>\n      <td>0.000340</td>\n      <td>0.02100</td>\n      <td>0.170</td>\n      <td>0.2000</td>\n      <td>0.2400</td>\n      <td>3700.0</td>\n      <td>11455.0</td>\n      <td>1.0</td>\n    </tr>\n    <tr>\n      <th>y_sim[66]</th>\n      <td>0.2000</td>\n      <td>0.000320</td>\n      <td>0.02000</td>\n      <td>0.170</td>\n      <td>0.2000</td>\n      <td>0.2400</td>\n      <td>3979.0</td>\n      <td>12319.0</td>\n      <td>1.0</td>\n    </tr>\n    <tr>\n      <th>y_sim[67]</th>\n      <td>0.2100</td>\n      <td>0.000350</td>\n      <td>0.02000</td>\n      <td>0.170</td>\n      <td>0.2100</td>\n      <td>0.2400</td>\n      <td>3471.0</td>\n      <td>10747.0</td>\n      <td>1.0</td>\n    </tr>\n    <tr>\n      <th>y_sim[68]</th>\n      <td>0.2100</td>\n      <td>0.000340</td>\n      <td>0.02000</td>\n      <td>0.170</td>\n      <td>0.2100</td>\n      <td>0.2400</td>\n      <td>3643.0</td>\n      <td>11278.0</td>\n      <td>1.0</td>\n    </tr>\n  </tbody>\n</table>\n<p>72 rows × 9 columns</p>\n</div>"
     },
     "execution_count": 5,
     "metadata": {},
     "output_type": "execute_result"
    }
   ],
   "source": [
    "fit_result.summary()"
   ]
  },
  {
   "cell_type": "code",
   "execution_count": 6,
   "metadata": {
    "collapsed": false,
    "pycharm": {
     "name": "#%%\n"
    }
   },
   "outputs": [],
   "source": [
    "alpha = np.mean(fit_result.stan_variable(\"alpha\"))\n",
    "beta = np.mean(fit_result.stan_variable(\"beta\"))\n",
    "sigma = np.mean(fit_result.stan_variable(\"sigma\"))\n",
    "y_sim_to_mean = fit_result.stan_variable(\"y_sim\")"
   ]
  },
  {
   "cell_type": "code",
   "execution_count": 7,
   "metadata": {
    "collapsed": false,
    "pycharm": {
     "name": "#%%\n"
    }
   },
   "outputs": [],
   "source": [
    "y_sim = []\n",
    "for i in range(len(x)):\n",
    "    y_sim.append(y_sim_to_mean[2,i])"
   ]
  },
  {
   "cell_type": "code",
   "execution_count": 8,
   "metadata": {
    "collapsed": false,
    "pycharm": {
     "name": "#%%\n"
    }
   },
   "outputs": [],
   "source": [
    "upper_dev = [alpha + beta * x_ + sigma for x_ in x]\n",
    "lower_dev = [alpha + beta * x_ - sigma for x_ in x]\n",
    "dev = [alpha + beta * x_ for x_ in x]"
   ]
  },
  {
   "cell_type": "markdown",
   "metadata": {
    "collapsed": false
   },
   "source": []
  },
  {
   "cell_type": "code",
   "execution_count": 9,
   "metadata": {
    "collapsed": false,
    "pycharm": {
     "name": "#%%\n"
    }
   },
   "outputs": [
    {
     "name": "stderr",
     "output_type": "stream",
     "text": [
      "Exception ignored in: <function tqdm.__del__ at 0x7f18b4612e50>\n",
      "Traceback (most recent call last):\n",
      "  File \"/home/mat_komp/.local/lib/python3.8/site-packages/tqdm/std.py\", line 1162, in __del__\n",
      "    self.close()\n",
      "  File \"/home/mat_komp/.local/lib/python3.8/site-packages/tqdm/notebook.py\", line 287, in close\n",
      "    self.disp(bar_style='danger', check_delay=False)\n",
      "  File \"/home/mat_komp/.local/lib/python3.8/site-packages/tqdm/notebook.py\", line 160, in display\n",
      "    d = self.format_dict\n",
      "  File \"/home/mat_komp/.local/lib/python3.8/site-packages/tqdm/std.py\", line 1476, in format_dict\n",
      "    'colour': self.colour}\n",
      "  File \"/home/mat_komp/.local/lib/python3.8/site-packages/tqdm/notebook.py\", line 203, in colour\n",
      "    return self.container.children[-2].style.bar_color\n",
      "AttributeError: 'FloatProgress' object has no attribute 'style'\n"
     ]
    },
    {
     "data": {
      "text/plain": "<Figure size 432x288 with 1 Axes>",
      "image/png": "[encoded data removed]"
     },
     "metadata": {
      "needs_background": "light"
     },
     "output_type": "display_data"
    }
   ],
   "source": [
    "plt.plot(x, mean_list, \"ro\")\n",
    "plt.plot(x, y_sim, \"bo\")\n",
    "plt.plot(x, upper_dev)\n",
    "plt.plot(x, lower_dev)\n",
    "plt.plot(x, dev)\n",
    "plt.show()"
   ]
  }
 ],
 "metadata": {
  "interpreter": {
   "hash": "21d2c9d8169a72a6ee8a47ec19871551033632d248d241d399f03ea8178d894d"
  },
  "kernelspec": {
   "display_name": "Python 3.9.7 ('base')",
   "language": "python",
   "name": "python3"
  },
  "language_info": {
   "codemirror_mode": {
    "name": "ipython",
    "version": 3
   },
   "file_extension": ".py",
   "mimetype": "text/x-python",
   "name": "python",
   "nbconvert_exporter": "python",
   "pygments_lexer": "ipython3",
   "version": "3.9.7"
  },
  "orig_nbformat": 4
 },
 "nbformat": 4,
 "nbformat_minor": 2
}