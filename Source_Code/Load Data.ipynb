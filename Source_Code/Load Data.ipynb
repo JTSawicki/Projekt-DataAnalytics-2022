{
 "cells": [
  {
   "cell_type": "code",
   "execution_count": 1,
   "metadata": {},
   "outputs": [],
   "source": [
    "import pandas as pd\n",
    "import numpy as np\n",
    "from os.path import join as JoinPath\n",
    "from enum import Enum\n",
    "from typing import List\n",
    "from copy import deepcopy"
   ]
  },
  {
   "cell_type": "markdown",
   "metadata": {},
   "source": [
    "### Ładowanie danych"
   ]
  },
  {
   "cell_type": "code",
   "execution_count": 2,
   "metadata": {},
   "outputs": [],
   "source": [
    "# Enum do indentyfikacji pól danych\n",
    "class DataID(Enum):\n",
    "    Electricity_Household_From = 0\n",
    "    Electricity_Household_Until = 1\n",
    "    Electricity_Industrial_From = 2\n",
    "    Electricity_Industrial_Until = 3\n",
    "    Gas_Household_From = 4\n",
    "    Gas_Household_Until = 5\n",
    "    Gas_Industrial_From = 6\n",
    "    Gas_Industrial_Until = 7\n",
    "\n",
    "# Kolejność i liczba plików musi być indentyczna co w DataID enum\n",
    "TsvList = [\\\n",
    "    \"Electricity prices for household consumers from 2007.tsv\",\\\n",
    "    \"Electricity prices for household consumers until 2007.tsv\",\\\n",
    "    \"Electricity prices for non-household consumers from 2007.tsv\",\\\n",
    "    \"Electricity prices for non-household consumers until 2007.tsv\",\\\n",
    "    \"Gas prices for household consumers from 2007.tsv\",\\\n",
    "    \"Gas prices for household consumers until 2007.tsv\",\\\n",
    "    \"Gas prices for non-household consumers from 2007.tsv\",\\\n",
    "    \"Gas prices for non-household consumers until 2007.tsv\",\\\n",
    "    ]"
   ]
  },
  {
   "cell_type": "code",
   "execution_count": 3,
   "metadata": {},
   "outputs": [
    {
     "data": {
      "text/plain": "                           country 2007-S1  2007-S2  2008-S1  2008-S2   \\\n0  S,6000,4161901,KWH,I_TAX,EUR,AL       :        :        :        :    \n1  S,6000,4161901,KWH,I_TAX,EUR,AT       :   0.2653   0.2650   0.2649    \n2  S,6000,4161901,KWH,I_TAX,EUR,BA       :        :        :        :    \n3  S,6000,4161901,KWH,I_TAX,EUR,BE       :   0.2443   0.2785   0.3593    \n4  S,6000,4161901,KWH,I_TAX,EUR,BG       :   0.0741   0.0741   0.0823    \n\n  2009-S1  2009-S2  2010-S1  2010-S2  2011-S1   ... 2017-S1  2017-S2   \\\n0       :        :        :        :   0.1152   ...  0.0844   0.0856    \n1  0.2727   0.2726   0.2538   0.2570   0.2946   ...  0.3699   0.3730    \n2       :        :        :        :        :   ...  0.2224   0.2020    \n3  0.2628   0.2780   0.2930   0.2852   0.3034   ...  0.4988   0.5160    \n4  0.0844   0.0823   0.0823   0.0842   0.0840   ...  0.0977   0.0998    \n\n  2018-S1  2018-S2   2019-S1  2019-S2   2020-S1   2020-S2  2021-S1  2021-S2   \n0       :   0.0910   0.0920 e  0.0933   0.0922 e  0.0920 e       :   0.0937   \n1  0.3652   0.3573    0.3796   0.3847    0.4074    0.4037   0.4387   0.4545   \n2  0.2206   0.1884    0.2090   0.1872    0.2130    0.2077   0.2146   0.1876   \n3  0.4300   0.4358    0.4742   0.5012    0.4393    0.4792   0.4346   0.4078   \n4  0.1000   0.1016    0.1014   0.1017    0.1034    0.1044   0.1061   0.1119   \n\n[5 rows x 31 columns]",
      "text/html": "<div>\n<style scoped>\n    .dataframe tbody tr th:only-of-type {\n        vertical-align: middle;\n    }\n\n    .dataframe tbody tr th {\n        vertical-align: top;\n    }\n\n    .dataframe thead th {\n        text-align: right;\n    }\n</style>\n<table border=\"1\" class=\"dataframe\">\n  <thead>\n    <tr style=\"text-align: right;\">\n      <th></th>\n      <th>country</th>\n      <th>2007-S1</th>\n      <th>2007-S2</th>\n      <th>2008-S1</th>\n      <th>2008-S2</th>\n      <th>2009-S1</th>\n      <th>2009-S2</th>\n      <th>2010-S1</th>\n      <th>2010-S2</th>\n      <th>2011-S1</th>\n      <th>...</th>\n      <th>2017-S1</th>\n      <th>2017-S2</th>\n      <th>2018-S1</th>\n      <th>2018-S2</th>\n      <th>2019-S1</th>\n      <th>2019-S2</th>\n      <th>2020-S1</th>\n      <th>2020-S2</th>\n      <th>2021-S1</th>\n      <th>2021-S2</th>\n    </tr>\n  </thead>\n  <tbody>\n    <tr>\n      <th>0</th>\n      <td>S,6000,4161901,KWH,I_TAX,EUR,AL</td>\n      <td>:</td>\n      <td>:</td>\n      <td>:</td>\n      <td>:</td>\n      <td>:</td>\n      <td>:</td>\n      <td>:</td>\n      <td>:</td>\n      <td>0.1152</td>\n      <td>...</td>\n      <td>0.0844</td>\n      <td>0.0856</td>\n      <td>:</td>\n      <td>0.0910</td>\n      <td>0.0920 e</td>\n      <td>0.0933</td>\n      <td>0.0922 e</td>\n      <td>0.0920 e</td>\n      <td>:</td>\n      <td>0.0937</td>\n    </tr>\n    <tr>\n      <th>1</th>\n      <td>S,6000,4161901,KWH,I_TAX,EUR,AT</td>\n      <td>:</td>\n      <td>0.2653</td>\n      <td>0.2650</td>\n      <td>0.2649</td>\n      <td>0.2727</td>\n      <td>0.2726</td>\n      <td>0.2538</td>\n      <td>0.2570</td>\n      <td>0.2946</td>\n      <td>...</td>\n      <td>0.3699</td>\n      <td>0.3730</td>\n      <td>0.3652</td>\n      <td>0.3573</td>\n      <td>0.3796</td>\n      <td>0.3847</td>\n      <td>0.4074</td>\n      <td>0.4037</td>\n      <td>0.4387</td>\n      <td>0.4545</td>\n    </tr>\n    <tr>\n      <th>2</th>\n      <td>S,6000,4161901,KWH,I_TAX,EUR,BA</td>\n      <td>:</td>\n      <td>:</td>\n      <td>:</td>\n      <td>:</td>\n      <td>:</td>\n      <td>:</td>\n      <td>:</td>\n      <td>:</td>\n      <td>:</td>\n      <td>...</td>\n      <td>0.2224</td>\n      <td>0.2020</td>\n      <td>0.2206</td>\n      <td>0.1884</td>\n      <td>0.2090</td>\n      <td>0.1872</td>\n      <td>0.2130</td>\n      <td>0.2077</td>\n      <td>0.2146</td>\n      <td>0.1876</td>\n    </tr>\n    <tr>\n      <th>3</th>\n      <td>S,6000,4161901,KWH,I_TAX,EUR,BE</td>\n      <td>:</td>\n      <td>0.2443</td>\n      <td>0.2785</td>\n      <td>0.3593</td>\n      <td>0.2628</td>\n      <td>0.2780</td>\n      <td>0.2930</td>\n      <td>0.2852</td>\n      <td>0.3034</td>\n      <td>...</td>\n      <td>0.4988</td>\n      <td>0.5160</td>\n      <td>0.4300</td>\n      <td>0.4358</td>\n      <td>0.4742</td>\n      <td>0.5012</td>\n      <td>0.4393</td>\n      <td>0.4792</td>\n      <td>0.4346</td>\n      <td>0.4078</td>\n    </tr>\n    <tr>\n      <th>4</th>\n      <td>S,6000,4161901,KWH,I_TAX,EUR,BG</td>\n      <td>:</td>\n      <td>0.0741</td>\n      <td>0.0741</td>\n      <td>0.0823</td>\n      <td>0.0844</td>\n      <td>0.0823</td>\n      <td>0.0823</td>\n      <td>0.0842</td>\n      <td>0.0840</td>\n      <td>...</td>\n      <td>0.0977</td>\n      <td>0.0998</td>\n      <td>0.1000</td>\n      <td>0.1016</td>\n      <td>0.1014</td>\n      <td>0.1017</td>\n      <td>0.1034</td>\n      <td>0.1044</td>\n      <td>0.1061</td>\n      <td>0.1119</td>\n    </tr>\n  </tbody>\n</table>\n<p>5 rows × 31 columns</p>\n</div>"
     },
     "execution_count": 3,
     "metadata": {},
     "output_type": "execute_result"
    }
   ],
   "source": [
    "# Ładowanie danych\n",
    "DataFolder = \"data-for-stan-models\"\n",
    "LoadedData = {}\n",
    "\n",
    "for i in range(len(TsvList)): # Iteracja po ładowanych plikach\n",
    "    LoadedData[i] = pd.read_csv(\\\n",
    "        JoinPath(DataFolder, TsvList[i]),\\\n",
    "        sep='\\t',\\\n",
    "        header=0,\\\n",
    "        )\n",
    "    LoadedData[i].rename(columns = {'freq,product,consom,unit,tax,currency,geo\\TIME_PERIOD': 'country'}, inplace=True)\n",
    "LoadedData[0].head()"
   ]
  },
  {
   "cell_type": "markdown",
   "metadata": {},
   "source": [
    "### Wybieranie danych i zamiana nazewnictwa"
   ]
  },
  {
   "cell_type": "code",
   "execution_count": 4,
   "metadata": {},
   "outputs": [],
   "source": [
    "def Filter(index: str, unit:str = \"KWH\", currency: str = \"EUR\", tax: str = \"X_TAX\", consom: str = \"\"):\n",
    "    '''\n",
    "    Funkcja sprawdzająca czy to jest wiersz danych który chcemy załadować\n",
    "    Parameters:\n",
    "        index (str): Przetwarzany indeks danych\n",
    "        unit (str): Jednostka danych. Dostępne: \"KWH\"(Kilo Wato Godzina), \"GJ_GCV\"(Gigadżul)\n",
    "        currency (str): Waluta danych. Dostępne: \"EUR\"(Euro), \"PPS\"(Purchasing Power Standard), \"NAC\"(Narodowa waluta)\n",
    "        tax (str): Jaki podatek. Dostępne: \"I_TAX\"(wszystkie podatki), \"X_VAT\"(bez VAT), \"X_TAX\"(bez podatków)\n",
    "        consom (str): Jakaś gówniana wartość duplikująca dane XD\n",
    "    Returns:\n",
    "        (bool): Czy załadować wiersz\n",
    "    '''\n",
    "    # Filtracja parametru\n",
    "    if unit not in index:\n",
    "        return False\n",
    "    if currency not in index:\n",
    "        return False\n",
    "    if tax not in index:\n",
    "        return False\n",
    "    if consom not in index:\n",
    "        return False\n",
    "    # Filtracja niechcianych danych statystycznych o UE\n",
    "    if \"EU15\" in index or \"EU25\" in index or \"EU27_2007\" in index or \"EU27_2020\" in index:\n",
    "        return False\n",
    "    return True\n",
    "\n",
    "def FilterRange(data, fun, **kwargs):\n",
    "    result = []\n",
    "    for i in data:\n",
    "        result.append(fun(i, **kwargs))\n",
    "    return result\n",
    "\n",
    "def FindConsom(index: str):\n",
    "    '''\n",
    "    Funkcja znajduje wartość consom\n",
    "    '''\n",
    "    return index.split(',')[2]"
   ]
  },
  {
   "cell_type": "code",
   "execution_count": 5,
   "metadata": {},
   "outputs": [
    {
     "name": "stdout",
     "output_type": "stream",
     "text": [
      "42\n",
      "31\n",
      "42\n",
      "31\n",
      "34\n",
      "26\n",
      "34\n",
      "26\n"
     ]
    },
    {
     "data": {
      "text/plain": "                             country 2007-S1  2007-S2  2008-S1  2008-S2   \\\n123  S,6000,4161901,KWH,X_TAX,EUR,AL       :        :        :        :    \n124  S,6000,4161901,KWH,X_TAX,EUR,AT       :   0.1834   0.1812   0.1812    \n125  S,6000,4161901,KWH,X_TAX,EUR,BA       :        :        :        :    \n126  S,6000,4161901,KWH,X_TAX,EUR,BE       :   0.1873   0.2153   0.2809    \n127  S,6000,4161901,KWH,X_TAX,EUR,BG       :   0.0619   0.0619   0.0685    \n\n    2009-S1  2009-S2  2010-S1  2010-S2  2011-S1   ... 2017-S1  2017-S2   \\\n123       :        :        :        :   0.0960   ...  0.0703   0.0713    \n124  0.1874   0.1874   0.1746   0.1772   0.2055   ...  0.2134   0.2061    \n125       :        :        :        :        :   ...  0.1887   0.1712    \n126  0.2024   0.2134   0.2241   0.2176   0.2304   ...  0.2916   0.2785    \n127  0.0706   0.0685   0.0685   0.0701   0.0699   ...  0.0814   0.0831    \n\n    2018-S1  2018-S2   2019-S1  2019-S2   2020-S1   2020-S2  2021-S1  2021-S2   \n123       :   0.0759   0.0767 e  0.0778   0.0768 e  0.0767 e       :   0.0781   \n124  0.2105   0.2098    0.2259   0.2304    0.2413    0.2376   0.2500   0.2640   \n125  0.1870   0.1594    0.1769   0.1580    0.1798    0.1751   0.1808   0.1576   \n126  0.3013   0.3057    0.3411   0.3683    0.3150    0.3478   0.3080   0.2878   \n127  0.0833   0.0847    0.0845   0.0848    0.0862    0.0870   0.0885   0.0933   \n\n[5 rows x 31 columns]",
      "text/html": "<div>\n<style scoped>\n    .dataframe tbody tr th:only-of-type {\n        vertical-align: middle;\n    }\n\n    .dataframe tbody tr th {\n        vertical-align: top;\n    }\n\n    .dataframe thead th {\n        text-align: right;\n    }\n</style>\n<table border=\"1\" class=\"dataframe\">\n  <thead>\n    <tr style=\"text-align: right;\">\n      <th></th>\n      <th>country</th>\n      <th>2007-S1</th>\n      <th>2007-S2</th>\n      <th>2008-S1</th>\n      <th>2008-S2</th>\n      <th>2009-S1</th>\n      <th>2009-S2</th>\n      <th>2010-S1</th>\n      <th>2010-S2</th>\n      <th>2011-S1</th>\n      <th>...</th>\n      <th>2017-S1</th>\n      <th>2017-S2</th>\n      <th>2018-S1</th>\n      <th>2018-S2</th>\n      <th>2019-S1</th>\n      <th>2019-S2</th>\n      <th>2020-S1</th>\n      <th>2020-S2</th>\n      <th>2021-S1</th>\n      <th>2021-S2</th>\n    </tr>\n  </thead>\n  <tbody>\n    <tr>\n      <th>123</th>\n      <td>S,6000,4161901,KWH,X_TAX,EUR,AL</td>\n      <td>:</td>\n      <td>:</td>\n      <td>:</td>\n      <td>:</td>\n      <td>:</td>\n      <td>:</td>\n      <td>:</td>\n      <td>:</td>\n      <td>0.0960</td>\n      <td>...</td>\n      <td>0.0703</td>\n      <td>0.0713</td>\n      <td>:</td>\n      <td>0.0759</td>\n      <td>0.0767 e</td>\n      <td>0.0778</td>\n      <td>0.0768 e</td>\n      <td>0.0767 e</td>\n      <td>:</td>\n      <td>0.0781</td>\n    </tr>\n    <tr>\n      <th>124</th>\n      <td>S,6000,4161901,KWH,X_TAX,EUR,AT</td>\n      <td>:</td>\n      <td>0.1834</td>\n      <td>0.1812</td>\n      <td>0.1812</td>\n      <td>0.1874</td>\n      <td>0.1874</td>\n      <td>0.1746</td>\n      <td>0.1772</td>\n      <td>0.2055</td>\n      <td>...</td>\n      <td>0.2134</td>\n      <td>0.2061</td>\n      <td>0.2105</td>\n      <td>0.2098</td>\n      <td>0.2259</td>\n      <td>0.2304</td>\n      <td>0.2413</td>\n      <td>0.2376</td>\n      <td>0.2500</td>\n      <td>0.2640</td>\n    </tr>\n    <tr>\n      <th>125</th>\n      <td>S,6000,4161901,KWH,X_TAX,EUR,BA</td>\n      <td>:</td>\n      <td>:</td>\n      <td>:</td>\n      <td>:</td>\n      <td>:</td>\n      <td>:</td>\n      <td>:</td>\n      <td>:</td>\n      <td>:</td>\n      <td>...</td>\n      <td>0.1887</td>\n      <td>0.1712</td>\n      <td>0.1870</td>\n      <td>0.1594</td>\n      <td>0.1769</td>\n      <td>0.1580</td>\n      <td>0.1798</td>\n      <td>0.1751</td>\n      <td>0.1808</td>\n      <td>0.1576</td>\n    </tr>\n    <tr>\n      <th>126</th>\n      <td>S,6000,4161901,KWH,X_TAX,EUR,BE</td>\n      <td>:</td>\n      <td>0.1873</td>\n      <td>0.2153</td>\n      <td>0.2809</td>\n      <td>0.2024</td>\n      <td>0.2134</td>\n      <td>0.2241</td>\n      <td>0.2176</td>\n      <td>0.2304</td>\n      <td>...</td>\n      <td>0.2916</td>\n      <td>0.2785</td>\n      <td>0.3013</td>\n      <td>0.3057</td>\n      <td>0.3411</td>\n      <td>0.3683</td>\n      <td>0.3150</td>\n      <td>0.3478</td>\n      <td>0.3080</td>\n      <td>0.2878</td>\n    </tr>\n    <tr>\n      <th>127</th>\n      <td>S,6000,4161901,KWH,X_TAX,EUR,BG</td>\n      <td>:</td>\n      <td>0.0619</td>\n      <td>0.0619</td>\n      <td>0.0685</td>\n      <td>0.0706</td>\n      <td>0.0685</td>\n      <td>0.0685</td>\n      <td>0.0701</td>\n      <td>0.0699</td>\n      <td>...</td>\n      <td>0.0814</td>\n      <td>0.0831</td>\n      <td>0.0833</td>\n      <td>0.0847</td>\n      <td>0.0845</td>\n      <td>0.0848</td>\n      <td>0.0862</td>\n      <td>0.0870</td>\n      <td>0.0885</td>\n      <td>0.0933</td>\n    </tr>\n  </tbody>\n</table>\n<p>5 rows × 31 columns</p>\n</div>"
     },
     "execution_count": 5,
     "metadata": {},
     "output_type": "execute_result"
    }
   ],
   "source": [
    "# Uwaga funkcja brzydka zależy od danych\n",
    "FilteredData = {}\n",
    "for i in range(len(LoadedData.keys())):\n",
    "    mask = []\n",
    "    consom = FindConsom(LoadedData[i]['country'][0])\n",
    "    if(i < 4):\n",
    "        mask = (FilterRange(LoadedData.get(i)[\"country\"], Filter, unit = \"KWH\", consom=consom))\n",
    "    else:\n",
    "        mask = (FilterRange(LoadedData.get(i)[\"country\"], Filter, unit = \"GJ_GCV\", consom=consom))\n",
    "    FilteredData[i] = LoadedData[i][mask]\n",
    "    print(len(FilteredData[i])) # Wypisanie ilości otrzymanych danych\n",
    "FilteredData[0].head()"
   ]
  },
  {
   "cell_type": "code",
   "execution_count": 6,
   "metadata": {},
   "outputs": [
    {
     "data": {
      "text/plain": "    country 2007-S1  2007-S2  2008-S1  2008-S2  2009-S1  2009-S2  2010-S1   \\\n123      AL       :        :        :        :        :        :        :    \n124      AT       :   0.1834   0.1812   0.1812   0.1874   0.1874   0.1746    \n125      BA       :        :        :        :        :        :        :    \n126      BE       :   0.1873   0.2153   0.2809   0.2024   0.2134   0.2241    \n127      BG       :   0.0619   0.0619   0.0685   0.0706   0.0685   0.0685    \n\n    2010-S2  2011-S1   ... 2017-S1  2017-S2  2018-S1  2018-S2   2019-S1   \\\n123       :   0.0960   ...  0.0703   0.0713        :   0.0759   0.0767 e   \n124  0.1772   0.2055   ...  0.2134   0.2061   0.2105   0.2098    0.2259    \n125       :        :   ...  0.1887   0.1712   0.1870   0.1594    0.1769    \n126  0.2176   0.2304   ...  0.2916   0.2785   0.3013   0.3057    0.3411    \n127  0.0701   0.0699   ...  0.0814   0.0831   0.0833   0.0847    0.0845    \n\n    2019-S2   2020-S1   2020-S2  2021-S1  2021-S2   \n123  0.0778   0.0768 e  0.0767 e       :   0.0781   \n124  0.2304    0.2413    0.2376   0.2500   0.2640   \n125  0.1580    0.1798    0.1751   0.1808   0.1576   \n126  0.3683    0.3150    0.3478   0.3080   0.2878   \n127  0.0848    0.0862    0.0870   0.0885   0.0933   \n\n[5 rows x 31 columns]",
      "text/html": "<div>\n<style scoped>\n    .dataframe tbody tr th:only-of-type {\n        vertical-align: middle;\n    }\n\n    .dataframe tbody tr th {\n        vertical-align: top;\n    }\n\n    .dataframe thead th {\n        text-align: right;\n    }\n</style>\n<table border=\"1\" class=\"dataframe\">\n  <thead>\n    <tr style=\"text-align: right;\">\n      <th></th>\n      <th>country</th>\n      <th>2007-S1</th>\n      <th>2007-S2</th>\n      <th>2008-S1</th>\n      <th>2008-S2</th>\n      <th>2009-S1</th>\n      <th>2009-S2</th>\n      <th>2010-S1</th>\n      <th>2010-S2</th>\n      <th>2011-S1</th>\n      <th>...</th>\n      <th>2017-S1</th>\n      <th>2017-S2</th>\n      <th>2018-S1</th>\n      <th>2018-S2</th>\n      <th>2019-S1</th>\n      <th>2019-S2</th>\n      <th>2020-S1</th>\n      <th>2020-S2</th>\n      <th>2021-S1</th>\n      <th>2021-S2</th>\n    </tr>\n  </thead>\n  <tbody>\n    <tr>\n      <th>123</th>\n      <td>AL</td>\n      <td>:</td>\n      <td>:</td>\n      <td>:</td>\n      <td>:</td>\n      <td>:</td>\n      <td>:</td>\n      <td>:</td>\n      <td>:</td>\n      <td>0.0960</td>\n      <td>...</td>\n      <td>0.0703</td>\n      <td>0.0713</td>\n      <td>:</td>\n      <td>0.0759</td>\n      <td>0.0767 e</td>\n      <td>0.0778</td>\n      <td>0.0768 e</td>\n      <td>0.0767 e</td>\n      <td>:</td>\n      <td>0.0781</td>\n    </tr>\n    <tr>\n      <th>124</th>\n      <td>AT</td>\n      <td>:</td>\n      <td>0.1834</td>\n      <td>0.1812</td>\n      <td>0.1812</td>\n      <td>0.1874</td>\n      <td>0.1874</td>\n      <td>0.1746</td>\n      <td>0.1772</td>\n      <td>0.2055</td>\n      <td>...</td>\n      <td>0.2134</td>\n      <td>0.2061</td>\n      <td>0.2105</td>\n      <td>0.2098</td>\n      <td>0.2259</td>\n      <td>0.2304</td>\n      <td>0.2413</td>\n      <td>0.2376</td>\n      <td>0.2500</td>\n      <td>0.2640</td>\n    </tr>\n    <tr>\n      <th>125</th>\n      <td>BA</td>\n      <td>:</td>\n      <td>:</td>\n      <td>:</td>\n      <td>:</td>\n      <td>:</td>\n      <td>:</td>\n      <td>:</td>\n      <td>:</td>\n      <td>:</td>\n      <td>...</td>\n      <td>0.1887</td>\n      <td>0.1712</td>\n      <td>0.1870</td>\n      <td>0.1594</td>\n      <td>0.1769</td>\n      <td>0.1580</td>\n      <td>0.1798</td>\n      <td>0.1751</td>\n      <td>0.1808</td>\n      <td>0.1576</td>\n    </tr>\n    <tr>\n      <th>126</th>\n      <td>BE</td>\n      <td>:</td>\n      <td>0.1873</td>\n      <td>0.2153</td>\n      <td>0.2809</td>\n      <td>0.2024</td>\n      <td>0.2134</td>\n      <td>0.2241</td>\n      <td>0.2176</td>\n      <td>0.2304</td>\n      <td>...</td>\n      <td>0.2916</td>\n      <td>0.2785</td>\n      <td>0.3013</td>\n      <td>0.3057</td>\n      <td>0.3411</td>\n      <td>0.3683</td>\n      <td>0.3150</td>\n      <td>0.3478</td>\n      <td>0.3080</td>\n      <td>0.2878</td>\n    </tr>\n    <tr>\n      <th>127</th>\n      <td>BG</td>\n      <td>:</td>\n      <td>0.0619</td>\n      <td>0.0619</td>\n      <td>0.0685</td>\n      <td>0.0706</td>\n      <td>0.0685</td>\n      <td>0.0685</td>\n      <td>0.0701</td>\n      <td>0.0699</td>\n      <td>...</td>\n      <td>0.0814</td>\n      <td>0.0831</td>\n      <td>0.0833</td>\n      <td>0.0847</td>\n      <td>0.0845</td>\n      <td>0.0848</td>\n      <td>0.0862</td>\n      <td>0.0870</td>\n      <td>0.0885</td>\n      <td>0.0933</td>\n    </tr>\n  </tbody>\n</table>\n<p>5 rows × 31 columns</p>\n</div>"
     },
     "execution_count": 6,
     "metadata": {},
     "output_type": "execute_result"
    }
   ],
   "source": [
    "def CreateNewIndex(index: List[str]):\n",
    "    \"\"\"\n",
    "    Funkcja tworzy indeks z identyfikatorem kraju zamiast oryginalnego gówna\n",
    "    \"\"\"\n",
    "    result = []\n",
    "    for i in index:\n",
    "        result.append(i[i.rfind(',') + 1:])\n",
    "    return result\n",
    "\n",
    "# Filtracja danych\n",
    "ResultData = {}\n",
    "for i in range(len(FilteredData.keys())):\n",
    "    ResultData[i] = FilteredData[i].apply(lambda x: CreateNewIndex(x) if x.name == 'country' else x)\n",
    "ResultData[0].head()"
   ]
  },
  {
   "cell_type": "markdown",
   "metadata": {},
   "source": [
    "### Łączenie danych"
   ]
  },
  {
   "cell_type": "code",
   "execution_count": 7,
   "metadata": {},
   "outputs": [
    {
     "data": {
      "text/plain": "        1985-S1  1986-S1  1987-S1  1988-S1  1989-S1  1990-S1  1991-S1   \\\ncountry                                                                  \nAT            :        :        :        :        :        :        :    \nBE       8.2752   7.8903   5.5516   5.3835   5.0466   5.7753   6.2446    \nBG            :        :        :        :        :        :        :    \nCZ            :        :        :        :        :        :        :    \nDE       7.6610   7.8524   5.9917   5.3451   4.5103   5.6982   6.3598    \n\n        1991-S2  1992-S1  1992-S2   ...  2017-S1   2017-S2   2018-S1   \\\ncountry                             ...                                 \nAT            :        :        :   ...  11.9000   12.4317   12.0167    \nBE       6.1624   6.0329   5.7803   ...  10.6781   11.0109   10.2030    \nBG            :        :        :   ...   7.0917    8.2531    8.3462    \nCZ            :        :        :   ...   9.0481    9.7959    9.2951    \nDE       6.1869   6.1382   5.6844   ...  10.9700   10.7580   10.5630    \n\n         2018-S2   2019-S1   2019-S2   2020-S1   2020-S2   2021-S1   2021-S2   \ncountry                                                                        \nAT       12.1694   11.7750   12.1750   11.5444   11.2417   11.7139   13.3661   \nBE       11.5064   11.2987   10.4810    9.7883    9.9763    9.8782   14.1133   \nBG        9.6696    9.9266    9.7056    8.9294    7.8782    8.1046   16.9628   \nCZ        9.1080    9.3503    9.5618    9.0020    8.7630    8.0237    8.6996   \nDE       10.5910   10.4340   10.0422   10.6987   10.6166   10.2412   12.2731   \n\n[5 rows x 68 columns]",
      "text/html": "<div>\n<style scoped>\n    .dataframe tbody tr th:only-of-type {\n        vertical-align: middle;\n    }\n\n    .dataframe tbody tr th {\n        vertical-align: top;\n    }\n\n    .dataframe thead th {\n        text-align: right;\n    }\n</style>\n<table border=\"1\" class=\"dataframe\">\n  <thead>\n    <tr style=\"text-align: right;\">\n      <th></th>\n      <th>1985-S1</th>\n      <th>1986-S1</th>\n      <th>1987-S1</th>\n      <th>1988-S1</th>\n      <th>1989-S1</th>\n      <th>1990-S1</th>\n      <th>1991-S1</th>\n      <th>1991-S2</th>\n      <th>1992-S1</th>\n      <th>1992-S2</th>\n      <th>...</th>\n      <th>2017-S1</th>\n      <th>2017-S2</th>\n      <th>2018-S1</th>\n      <th>2018-S2</th>\n      <th>2019-S1</th>\n      <th>2019-S2</th>\n      <th>2020-S1</th>\n      <th>2020-S2</th>\n      <th>2021-S1</th>\n      <th>2021-S2</th>\n    </tr>\n    <tr>\n      <th>country</th>\n      <th></th>\n      <th></th>\n      <th></th>\n      <th></th>\n      <th></th>\n      <th></th>\n      <th></th>\n      <th></th>\n      <th></th>\n      <th></th>\n      <th></th>\n      <th></th>\n      <th></th>\n      <th></th>\n      <th></th>\n      <th></th>\n      <th></th>\n      <th></th>\n      <th></th>\n      <th></th>\n      <th></th>\n    </tr>\n  </thead>\n  <tbody>\n    <tr>\n      <th>AT</th>\n      <td>:</td>\n      <td>:</td>\n      <td>:</td>\n      <td>:</td>\n      <td>:</td>\n      <td>:</td>\n      <td>:</td>\n      <td>:</td>\n      <td>:</td>\n      <td>:</td>\n      <td>...</td>\n      <td>11.9000</td>\n      <td>12.4317</td>\n      <td>12.0167</td>\n      <td>12.1694</td>\n      <td>11.7750</td>\n      <td>12.1750</td>\n      <td>11.5444</td>\n      <td>11.2417</td>\n      <td>11.7139</td>\n      <td>13.3661</td>\n    </tr>\n    <tr>\n      <th>BE</th>\n      <td>8.2752</td>\n      <td>7.8903</td>\n      <td>5.5516</td>\n      <td>5.3835</td>\n      <td>5.0466</td>\n      <td>5.7753</td>\n      <td>6.2446</td>\n      <td>6.1624</td>\n      <td>6.0329</td>\n      <td>5.7803</td>\n      <td>...</td>\n      <td>10.6781</td>\n      <td>11.0109</td>\n      <td>10.2030</td>\n      <td>11.5064</td>\n      <td>11.2987</td>\n      <td>10.4810</td>\n      <td>9.7883</td>\n      <td>9.9763</td>\n      <td>9.8782</td>\n      <td>14.1133</td>\n    </tr>\n    <tr>\n      <th>BG</th>\n      <td>:</td>\n      <td>:</td>\n      <td>:</td>\n      <td>:</td>\n      <td>:</td>\n      <td>:</td>\n      <td>:</td>\n      <td>:</td>\n      <td>:</td>\n      <td>:</td>\n      <td>...</td>\n      <td>7.0917</td>\n      <td>8.2531</td>\n      <td>8.3462</td>\n      <td>9.6696</td>\n      <td>9.9266</td>\n      <td>9.7056</td>\n      <td>8.9294</td>\n      <td>7.8782</td>\n      <td>8.1046</td>\n      <td>16.9628</td>\n    </tr>\n    <tr>\n      <th>CZ</th>\n      <td>:</td>\n      <td>:</td>\n      <td>:</td>\n      <td>:</td>\n      <td>:</td>\n      <td>:</td>\n      <td>:</td>\n      <td>:</td>\n      <td>:</td>\n      <td>:</td>\n      <td>...</td>\n      <td>9.0481</td>\n      <td>9.7959</td>\n      <td>9.2951</td>\n      <td>9.1080</td>\n      <td>9.3503</td>\n      <td>9.5618</td>\n      <td>9.0020</td>\n      <td>8.7630</td>\n      <td>8.0237</td>\n      <td>8.6996</td>\n    </tr>\n    <tr>\n      <th>DE</th>\n      <td>7.6610</td>\n      <td>7.8524</td>\n      <td>5.9917</td>\n      <td>5.3451</td>\n      <td>4.5103</td>\n      <td>5.6982</td>\n      <td>6.3598</td>\n      <td>6.1869</td>\n      <td>6.1382</td>\n      <td>5.6844</td>\n      <td>...</td>\n      <td>10.9700</td>\n      <td>10.7580</td>\n      <td>10.5630</td>\n      <td>10.5910</td>\n      <td>10.4340</td>\n      <td>10.0422</td>\n      <td>10.6987</td>\n      <td>10.6166</td>\n      <td>10.2412</td>\n      <td>12.2731</td>\n    </tr>\n  </tbody>\n</table>\n<p>5 rows × 68 columns</p>\n</div>"
     },
     "execution_count": 7,
     "metadata": {},
     "output_type": "execute_result"
    }
   ],
   "source": [
    "# Łączenie danych\n",
    "electricity_household = ResultData[1].set_index('country')\\\n",
    "    .join(deepcopy(ResultData[0]).drop(['2007-S1 ', '2007-S2 '], axis=1)\\\n",
    "        .set_index('country'), on=\"country\")\n",
    "electricity_household.head()\n",
    "\n",
    "electricity_industry = ResultData[3].set_index('country')\\\n",
    "    .join(deepcopy(ResultData[2]).drop(['2007-S1 ', '2007-S2 '], axis=1)\\\n",
    "        .set_index('country'), on=\"country\")\n",
    "electricity_industry.head()\n",
    "\n",
    "gas_household = ResultData[5].set_index('country')\\\n",
    "    .join(deepcopy(ResultData[4]).drop(['2007-S1 ', '2007-S2 '], axis=1)\\\n",
    "        .set_index('country'), on=\"country\")\n",
    "gas_household.head()\n",
    "\n",
    "gas_industry = ResultData[7].set_index('country')\\\n",
    "    .join(deepcopy(ResultData[6]).drop(['2007-S1 ', '2007-S2 '], axis=1)\\\n",
    "        .set_index('country'), on=\"country\")\n",
    "gas_industry.head()"
   ]
  },
  {
   "cell_type": "markdown",
   "metadata": {},
   "source": [
    "### Znajdywanie części wspólnej i zapis danych"
   ]
  },
  {
   "cell_type": "code",
   "execution_count": 8,
   "metadata": {},
   "outputs": [],
   "source": [
    "def PrintCount(*args: List):\n",
    "    '''\n",
    "    Funkcja wypisuje liczność podanych zbiorów danych\n",
    "    Params:\n",
    "        *args (List): Listy do wypisania liczności\n",
    "    '''\n",
    "    ElemCount = []\n",
    "    for i in args:\n",
    "        ElemCount.append(len(i))\n",
    "    print('Liczność przeszukiwanych zbiorów:', ElemCount)\n",
    "\n",
    "def FindIntersection(*args: List):\n",
    "    '''\n",
    "    Funkcja znajduje część wspólną wielu zbiorów/list\n",
    "    Params:\n",
    "        *args (List): Listy do znalezienia części wspólnej\n",
    "    Returns:\n",
    "        (List): Część wspólna\n",
    "    '''\n",
    "    result = set(args[0])\n",
    "    if len(args) > 1:\n",
    "        for i in range(1, len(args)):\n",
    "            result = result.intersection(args[i])\n",
    "    \n",
    "    print('Ilość wspólnych krajów', len(result))\n",
    "    print('Wspólne kraje', result)\n",
    "    return result\n",
    "\n",
    "def FindDifference(*args):\n",
    "    '''\n",
    "    Funkcja znajduje różnicę wielu zbiorów/list\n",
    "    Params:\n",
    "        *args (List): Listy do znalezienia części wspulnej\n",
    "    Returns:\n",
    "        (List): Różnica\n",
    "    '''\n",
    "    result = set([])\n",
    "    intersection = set(FindIntersection(*args))\n",
    "    for i in args:\n",
    "        result.update(intersection.symmetric_difference(i))\n",
    "    print('Ilość różnych krajów', len(result))\n",
    "    print('Różne kraje', result)\n",
    "    return result\n"
   ]
  },
  {
   "cell_type": "code",
   "execution_count": 9,
   "metadata": {},
   "outputs": [
    {
     "name": "stdout",
     "output_type": "stream",
     "text": [
      "Początkowa liczność\n",
      "Liczność przeszukiwanych zbiorów: [31, 31, 26, 26]\n",
      "Ilość wspólnych krajów 25\n",
      "Wspólne kraje {'TR', 'IT', 'FR', 'SK', 'BE', 'DK', 'SE', 'EA', 'LV', 'RO', 'CZ', 'NL', 'LT', 'BG', 'HU', 'PT', 'ES', 'DE', 'LU', 'AT', 'IE', 'UK', 'PL', 'HR', 'EE'}\n",
      "Ilość wspólnych krajów 25\n",
      "Wspólne kraje {'TR', 'IT', 'FR', 'SK', 'BE', 'DK', 'SE', 'EA', 'LV', 'RO', 'CZ', 'NL', 'LT', 'BG', 'HU', 'PT', 'ES', 'DE', 'LU', 'AT', 'IE', 'UK', 'PL', 'HR', 'EE'}\n",
      "Ilość różnych krajów 6\n",
      "Różne kraje {'FI', 'MT', 'SI', 'EL', 'CY', 'NO'}\n",
      "Końcowa liczność\n",
      "Liczność przeszukiwanych zbiorów: [25, 25, 25, 25]\n",
      "Head pierwszego: electricity_household\n"
     ]
    },
    {
     "data": {
      "text/plain": "        1985-S1  1986-S1  1987-S1  1988-S1  1989-S1  1990-S1  1991-S1   \\\ncountry                                                                  \nTR            :        :        :        :        :        :        :    \nIT            :        :        :        :        :        :        :    \nFR            :        :        :        :        :        :        :    \nSK            :        :        :        :        :        :        :    \nBE       0.1700   0.1761   0.1738   0.1760   0.1757   0.1825   0.1836    \n\n        1991-S2  1992-S1  1992-S2   ... 2017-S1  2017-S2  2018-S1  2018-S2   \\\ncountry                             ...                                       \nTR            :        :        :   ...  0.0844   0.0772   0.0737   0.0689    \nIT            :        :        :   ...  0.2572   0.2217   0.2160   0.2382    \nFR            :        :        :   ...  0.2233   0.2114   0.2712   0.3128    \nSK            :        :        :   ...  0.1636   0.1595   0.1687   0.1606    \nBE       0.1856   0.1869   0.1892   ...  0.2916   0.2785   0.3013   0.3057    \n\n        2019-S1  2019-S2  2020-S1  2020-S2  2021-S1  2021-S2   \ncountry                                                        \nTR       0.0683   0.0843   0.0804   0.0659   0.0675   0.0642   \nIT       0.3494   0.2926   0.3499   0.2877   0.3575   0.3322   \nFR       0.2497   0.2775   0.2981   0.3247   0.2884   0.3161   \nSK       0.1778   0.1720   0.1821   0.1902   0.1812   0.1809   \nBE       0.3411   0.3683   0.3150   0.3478   0.3080   0.2878   \n\n[5 rows x 68 columns]",
      "text/html": "<div>\n<style scoped>\n    .dataframe tbody tr th:only-of-type {\n        vertical-align: middle;\n    }\n\n    .dataframe tbody tr th {\n        vertical-align: top;\n    }\n\n    .dataframe thead th {\n        text-align: right;\n    }\n</style>\n<table border=\"1\" class=\"dataframe\">\n  <thead>\n    <tr style=\"text-align: right;\">\n      <th></th>\n      <th>1985-S1</th>\n      <th>1986-S1</th>\n      <th>1987-S1</th>\n      <th>1988-S1</th>\n      <th>1989-S1</th>\n      <th>1990-S1</th>\n      <th>1991-S1</th>\n      <th>1991-S2</th>\n      <th>1992-S1</th>\n      <th>1992-S2</th>\n      <th>...</th>\n      <th>2017-S1</th>\n      <th>2017-S2</th>\n      <th>2018-S1</th>\n      <th>2018-S2</th>\n      <th>2019-S1</th>\n      <th>2019-S2</th>\n      <th>2020-S1</th>\n      <th>2020-S2</th>\n      <th>2021-S1</th>\n      <th>2021-S2</th>\n    </tr>\n    <tr>\n      <th>country</th>\n      <th></th>\n      <th></th>\n      <th></th>\n      <th></th>\n      <th></th>\n      <th></th>\n      <th></th>\n      <th></th>\n      <th></th>\n      <th></th>\n      <th></th>\n      <th></th>\n      <th></th>\n      <th></th>\n      <th></th>\n      <th></th>\n      <th></th>\n      <th></th>\n      <th></th>\n      <th></th>\n      <th></th>\n    </tr>\n  </thead>\n  <tbody>\n    <tr>\n      <th>TR</th>\n      <td>:</td>\n      <td>:</td>\n      <td>:</td>\n      <td>:</td>\n      <td>:</td>\n      <td>:</td>\n      <td>:</td>\n      <td>:</td>\n      <td>:</td>\n      <td>:</td>\n      <td>...</td>\n      <td>0.0844</td>\n      <td>0.0772</td>\n      <td>0.0737</td>\n      <td>0.0689</td>\n      <td>0.0683</td>\n      <td>0.0843</td>\n      <td>0.0804</td>\n      <td>0.0659</td>\n      <td>0.0675</td>\n      <td>0.0642</td>\n    </tr>\n    <tr>\n      <th>IT</th>\n      <td>:</td>\n      <td>:</td>\n      <td>:</td>\n      <td>:</td>\n      <td>:</td>\n      <td>:</td>\n      <td>:</td>\n      <td>:</td>\n      <td>:</td>\n      <td>:</td>\n      <td>...</td>\n      <td>0.2572</td>\n      <td>0.2217</td>\n      <td>0.2160</td>\n      <td>0.2382</td>\n      <td>0.3494</td>\n      <td>0.2926</td>\n      <td>0.3499</td>\n      <td>0.2877</td>\n      <td>0.3575</td>\n      <td>0.3322</td>\n    </tr>\n    <tr>\n      <th>FR</th>\n      <td>:</td>\n      <td>:</td>\n      <td>:</td>\n      <td>:</td>\n      <td>:</td>\n      <td>:</td>\n      <td>:</td>\n      <td>:</td>\n      <td>:</td>\n      <td>:</td>\n      <td>...</td>\n      <td>0.2233</td>\n      <td>0.2114</td>\n      <td>0.2712</td>\n      <td>0.3128</td>\n      <td>0.2497</td>\n      <td>0.2775</td>\n      <td>0.2981</td>\n      <td>0.3247</td>\n      <td>0.2884</td>\n      <td>0.3161</td>\n    </tr>\n    <tr>\n      <th>SK</th>\n      <td>:</td>\n      <td>:</td>\n      <td>:</td>\n      <td>:</td>\n      <td>:</td>\n      <td>:</td>\n      <td>:</td>\n      <td>:</td>\n      <td>:</td>\n      <td>:</td>\n      <td>...</td>\n      <td>0.1636</td>\n      <td>0.1595</td>\n      <td>0.1687</td>\n      <td>0.1606</td>\n      <td>0.1778</td>\n      <td>0.1720</td>\n      <td>0.1821</td>\n      <td>0.1902</td>\n      <td>0.1812</td>\n      <td>0.1809</td>\n    </tr>\n    <tr>\n      <th>BE</th>\n      <td>0.1700</td>\n      <td>0.1761</td>\n      <td>0.1738</td>\n      <td>0.1760</td>\n      <td>0.1757</td>\n      <td>0.1825</td>\n      <td>0.1836</td>\n      <td>0.1856</td>\n      <td>0.1869</td>\n      <td>0.1892</td>\n      <td>...</td>\n      <td>0.2916</td>\n      <td>0.2785</td>\n      <td>0.3013</td>\n      <td>0.3057</td>\n      <td>0.3411</td>\n      <td>0.3683</td>\n      <td>0.3150</td>\n      <td>0.3478</td>\n      <td>0.3080</td>\n      <td>0.2878</td>\n    </tr>\n  </tbody>\n</table>\n<p>5 rows × 68 columns</p>\n</div>"
     },
     "execution_count": 9,
     "metadata": {},
     "output_type": "execute_result"
    }
   ],
   "source": [
    "# Znajdywanie krajów niewystępujących gdzie indziej i części wspulnej\n",
    "print('Początkowa liczność')\n",
    "PrintCount(electricity_household.index,\\\n",
    "    electricity_industry.index,\\\n",
    "    gas_household.index,\\\n",
    "    gas_industry.index)\n",
    "\n",
    "intersection_keys = FindIntersection(electricity_household.index,\\\n",
    "    electricity_industry.index,\\\n",
    "    gas_household.index,\\\n",
    "    gas_industry.index)\n",
    "\n",
    "FindDifference(electricity_household.index,\\\n",
    "    electricity_industry.index,\\\n",
    "    gas_household.index,\\\n",
    "    gas_industry.index)\n",
    "\n",
    "# Przycinanie danych\n",
    "electricity_household = electricity_household.filter(items = intersection_keys, axis=0)\n",
    "electricity_industry = electricity_industry.filter(items = intersection_keys, axis=0)\n",
    "gas_household = gas_household.filter(items = intersection_keys, axis=0)\n",
    "gas_industry = gas_industry.filter(items = intersection_keys, axis=0)\n",
    "\n",
    "print('Końcowa liczność')\n",
    "PrintCount(electricity_household.index,\\\n",
    "    electricity_industry.index,\\\n",
    "    gas_household.index,\\\n",
    "    gas_industry.index)\n",
    "print('Head pierwszego: electricity_household')\n",
    "electricity_household.head()\n"
   ]
  },
  {
   "cell_type": "code",
   "execution_count": 10,
   "metadata": {},
   "outputs": [
    {
     "name": "stdout",
     "output_type": "stream",
     "text": [
      "<class 'str'> ' :  '\n"
     ]
    }
   ],
   "source": [
    "empty = electricity_household.iloc[1][1]\n",
    "print(type(empty), '\\'', empty, '\\'')\n",
    "# electricity_household.applymap(lambda x: np.nan if x==empty else x)"
   ]
  },
  {
   "cell_type": "code",
   "execution_count": 11,
   "metadata": {},
   "outputs": [],
   "source": [
    "# empty = electricity_household.iloc[1][1]\n",
    "# print(type(empty), '\\'', empty, '\\'')\n",
    "def RefactorData(df):\n",
    "    df = df.replace(' :  ', np.NaN)\n",
    "    for i in range(df.shape[0]):\n",
    "        for j in range(df.shape[1]):\n",
    "            elem = df.iloc[i][j]\n",
    "            if isinstance(elem, str):\n",
    "                newElem = ''\n",
    "                for k in range(len(elem)):\n",
    "                    if elem[k] in '1234567890.':\n",
    "                        newElem += elem[k]\n",
    "                df.iloc[i][j] = newElem\n",
    "    return df"
   ]
  },
  {
   "cell_type": "code",
   "execution_count": 12,
   "metadata": {},
   "outputs": [
    {
     "name": "stdout",
     "output_type": "stream",
     "text": [
      "Ilość krajów: 25 , zmienna: electricity_household\n",
      "Ilość krajów: 25 , zmienna: electricity_industry\n",
      "Ilość krajów: 25 , zmienna: gas_household\n",
      "Ilość krajów: 25 , zmienna: gas_industry\n"
     ]
    }
   ],
   "source": [
    "# # Zapisywanie danych\n",
    "DataFrameToSave = electricity_household\n",
    "DataFrameToSave = RefactorData(DataFrameToSave)\n",
    "DataFrameToSaveName = \"electricity_household\"\n",
    "print(\"Ilość krajów:\", len(DataFrameToSave), \", zmienna:\", DataFrameToSaveName)\n",
    "DataFrameToSave.to_csv(DataFrameToSaveName + '.tsv', index=True, sep='\\t')\n",
    "\n",
    "DataFrameToSave = electricity_industry\n",
    "DataFrameToSave = RefactorData(DataFrameToSave)\n",
    "DataFrameToSaveName = \"electricity_industry\"\n",
    "print(\"Ilość krajów:\", len(DataFrameToSave), \", zmienna:\", DataFrameToSaveName)\n",
    "DataFrameToSave.to_csv(DataFrameToSaveName + '.tsv', index=True, sep='\\t')\n",
    "\n",
    "DataFrameToSave = gas_household\n",
    "DataFrameToSave = RefactorData(DataFrameToSave)\n",
    "DataFrameToSaveName = \"gas_household\"\n",
    "print(\"Ilość krajów:\", len(DataFrameToSave), \", zmienna:\", DataFrameToSaveName)\n",
    "DataFrameToSave.to_csv(DataFrameToSaveName + '.tsv', index=True, sep='\\t')\n",
    "\n",
    "DataFrameToSave = gas_industry\n",
    "DataFrameToSave = RefactorData(DataFrameToSave)\n",
    "DataFrameToSaveName = \"gas_industry\"\n",
    "print(\"Ilość krajów:\", len(DataFrameToSave), \", zmienna:\", DataFrameToSaveName)\n",
    "DataFrameToSave.to_csv(DataFrameToSaveName + '.tsv', index=True, sep='\\t')"
   ]
  },
  {
   "cell_type": "code",
   "execution_count": 13,
   "metadata": {},
   "outputs": [
    {
     "data": {
      "text/plain": "1985-S1     object\n1986-S1     object\n1987-S1     object\n1988-S1     object\n1989-S1     object\n             ...  \n2019-S2     object\n2020-S1     object\n2020-S2     object\n2021-S1     object\n2021-S2     object\nLength: 68, dtype: object"
     },
     "execution_count": 13,
     "metadata": {},
     "output_type": "execute_result"
    }
   ],
   "source": [
    "# RefactorData(electricity_household)\n",
    "electricity_household.dtypes"
   ]
  }
 ],
 "metadata": {
  "interpreter": {
   "hash": "21d2c9d8169a72a6ee8a47ec19871551033632d248d241d399f03ea8178d894d"
  },
  "kernelspec": {
   "display_name": "Python 3.9.7 ('base')",
   "language": "python",
   "name": "python3"
  },
  "language_info": {
   "codemirror_mode": {
    "name": "ipython",
    "version": 3
   },
   "file_extension": ".py",
   "mimetype": "text/x-python",
   "name": "python",
   "nbconvert_exporter": "python",
   "pygments_lexer": "ipython3",
   "version": "3.9.7"
  },
  "orig_nbformat": 4
 },
 "nbformat": 4,
 "nbformat_minor": 2
}